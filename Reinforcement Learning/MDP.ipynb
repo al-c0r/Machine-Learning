{
 "cells": [
  {
   "cell_type": "code",
   "execution_count": 1,
   "id": "365ea38b-0cd4-4e95-afcf-18a633879cc3",
   "metadata": {},
   "outputs": [],
   "source": [
    "import numpy as np\n",
    "import matplotlib.pyplot as plt\n",
    "import time as t"
   ]
  },
  {
   "cell_type": "code",
   "execution_count": 2,
   "id": "c8e1e5a8-61a7-4878-8205-36d7c89637b4",
   "metadata": {},
   "outputs": [
    {
     "data": {
      "text/plain": [
       "'\\nSimplest problem finding a shortest path to endpoint\\n 0(st)  2    -1\\n 3      4    10(en)\\n 1      2     3\\n\\nAnd defining state as index of the above matrix i.e. s(start) = (0,0), s(end)=(1,2)\\n '"
      ]
     },
     "execution_count": 2,
     "metadata": {},
     "output_type": "execute_result"
    }
   ],
   "source": [
    "'''\n",
    "Simplest problem finding a shortest path to endpoint\n",
    " 0(st)  2    -1\n",
    " 3      4    10(en)\n",
    " 1      2     3\n",
    "\n",
    "And defining state as index of the above matrix i.e. s(start) = (0,0), s(end)=(1,2)\n",
    " '''"
   ]
  },
  {
   "cell_type": "code",
   "execution_count": 2,
   "id": "3376aa62-6f7c-4ce0-abd0-515d22b60b0e",
   "metadata": {},
   "outputs": [
    {
     "data": {
      "text/plain": [
       "array([[ 0,  2, -1],\n",
       "       [ 3,  4, 10],\n",
       "       [ 1,  2,  3]])"
      ]
     },
     "execution_count": 2,
     "metadata": {},
     "output_type": "execute_result"
    }
   ],
   "source": [
    "Rew = np.array([[0, 2, -1], [3, 4, 10], [1, 2, 3]]) #np.array([[0, 2, -1], [3, 4, 10], [1, 2, 3]])\n",
    "Rew #Reward matrix"
   ]
  },
  {
   "cell_type": "code",
   "execution_count": 3,
   "id": "e28e1081-9835-4be6-97ed-bee04edb40c6",
   "metadata": {},
   "outputs": [
    {
     "data": {
      "text/plain": [
       "array([[0., 0., 0.],\n",
       "       [0., 0., 0.],\n",
       "       [0., 0., 0.]])"
      ]
     },
     "execution_count": 3,
     "metadata": {},
     "output_type": "execute_result"
    }
   ],
   "source": [
    "V = np.zeros((3,3))\n",
    "V #Value matrix intialised"
   ]
  },
  {
   "cell_type": "code",
   "execution_count": 4,
   "id": "8747c1bf-cfc7-4add-88ff-8b081d8b9c05",
   "metadata": {},
   "outputs": [],
   "source": [
    "#act = ['L', 'R', 'U', 'D'] Actions available at a node\n",
    "def Act(s): #s=s(x,y)\n",
    "    ls = []\n",
    "    for i in range(len(s)):\n",
    "        if i==0:\n",
    "            if s[i]==0:\n",
    "                ls.append('D')\n",
    "            elif s[i]==2:\n",
    "                ls.append('U')\n",
    "            else:\n",
    "                ls.append('D')\n",
    "                ls.append('U')\n",
    "        elif i==1:\n",
    "            if s[i]==0:\n",
    "                ls.append('R')\n",
    "            elif s[i]==2:\n",
    "                ls.append('L')\n",
    "            else:\n",
    "                ls.append('R')\n",
    "                ls.append('L')\n",
    "    return ls"
   ]
  },
  {
   "cell_type": "code",
   "execution_count": 5,
   "id": "dbafd48e-63af-4e97-bc85-058da1c9de94",
   "metadata": {},
   "outputs": [
    {
     "data": {
      "text/plain": [
       "['D', 'R']"
      ]
     },
     "execution_count": 5,
     "metadata": {},
     "output_type": "execute_result"
    }
   ],
   "source": [
    "Act((0,0))"
   ]
  },
  {
   "cell_type": "code",
   "execution_count": 13,
   "id": "ff41d8a8-a386-4052-8b47-27765ad4df17",
   "metadata": {},
   "outputs": [],
   "source": [
    "dir = {'L':(0,-1), 'R':(0,1), 'U':(-1,0), 'D':(1,0)}\n",
    "#act = ['L', 'R', 'U', 'D']\n",
    "\n",
    "def Trans(s1, act, s2):  #s1 ---act---> s2 Transition probabilities\n",
    "    if s1[0]==1 and s1[1]==2:\n",
    "        return 0\n",
    "    else:\n",
    "        if (np.array(dir[act])+np.array(s1))[0]==s2[0] and (np.array(dir[act])+np.array(s1))[1]==s2[1]:\n",
    "            return 1.0 - (len(Act(s1))-1)*0.1 #probability of intended direction\n",
    "        else:\n",
    "            return 0.1 #probability of veering off the intended direction"
   ]
  },
  {
   "cell_type": "code",
   "execution_count": 7,
   "id": "18b2cb6b-b899-4b4d-879f-20df027da318",
   "metadata": {},
   "outputs": [
    {
     "data": {
      "text/plain": [
       "0.1"
      ]
     },
     "execution_count": 7,
     "metadata": {},
     "output_type": "execute_result"
    }
   ],
   "source": [
    "Trans((0,0), 'R', (1,0))"
   ]
  },
  {
   "cell_type": "code",
   "execution_count": 8,
   "id": "ab5e2785-770a-4508-8bbf-7ab8b707d2bf",
   "metadata": {},
   "outputs": [
    {
     "data": {
      "text/plain": [
       "False"
      ]
     },
     "execution_count": 8,
     "metadata": {},
     "output_type": "execute_result"
    }
   ],
   "source": [
    "np.array((1,1))[0]==(np.array(dir['L'])+np.array((1,0)))[0] and np.array((1,1))[0]==(np.array(dir['L'])+np.array((1,0)))[1]"
   ]
  },
  {
   "cell_type": "code",
   "execution_count": 14,
   "id": "84746460-1268-4801-a70c-e319b3817022",
   "metadata": {},
   "outputs": [],
   "source": [
    "def succ(s): #Successor of the given point\n",
    "    ls = []\n",
    "    for i in range(len(Act(s))):\n",
    "        if s[0]==1 and s[1]==2: #endpoint\n",
    "            ls.append(s)\n",
    "        else:\n",
    "            if Act(s)[i]=='L':\n",
    "                ls.append((s[0],s[1]-1))\n",
    "            elif Act(s)[i]=='R':\n",
    "                ls.append((s[0],s[1]+1))\n",
    "            elif Act(s)[i]=='U':\n",
    "                ls.append((s[0]-1,s[1]))\n",
    "            elif Act(s)[i]=='D':\n",
    "                ls.append((s[0]+1,s[1]))\n",
    "    return ls"
   ]
  },
  {
   "cell_type": "code",
   "execution_count": 10,
   "id": "d5dff376-8c2b-4f37-a5f2-74b7c03e3d39",
   "metadata": {},
   "outputs": [
    {
     "data": {
      "text/plain": [
       "[(2, 1), (0, 1), (1, 2), (1, 0)]"
      ]
     },
     "execution_count": 10,
     "metadata": {},
     "output_type": "execute_result"
    }
   ],
   "source": [
    "succ((1,1))"
   ]
  },
  {
   "cell_type": "code",
   "execution_count": 11,
   "id": "b796b111-cf14-401b-9dc9-3c7d874d4a80",
   "metadata": {},
   "outputs": [
    {
     "data": {
      "text/plain": [
       "2"
      ]
     },
     "execution_count": 11,
     "metadata": {},
     "output_type": "execute_result"
    }
   ],
   "source": [
    "Rew[succ((1,1))[1]]"
   ]
  },
  {
   "cell_type": "code",
   "execution_count": 15,
   "id": "be15e9b8-22e0-49dc-9e1d-12a2b394844b",
   "metadata": {},
   "outputs": [],
   "source": [
    "def MDP(Rew, Act, gam):\n",
    "    V = np.zeros((3,3)) #Value matrix intialised\n",
    "    x, y = 0, 0\n",
    "    n = 0\n",
    "    for m in range(3):\n",
    "        if m==0:\n",
    "            for i in range(len(V)):\n",
    "                for j in range(len(V[i])):\n",
    "                    Q = []\n",
    "                    for k in range(len(Act((i,j)))): #Maximising to choose which one yields the most\n",
    "                        q = 0\n",
    "                        for l in range(len(succ((i,j)))): #Summation of all posssible successor (expectation)\n",
    "                            q = q  + Trans((i,j), Act((i,j))[k], succ((i,j))[l])*(Rew[succ((i,j))[l]] + gam*V[succ((i,j))[l]])\n",
    "                            Q.append(q)\n",
    "                    V[i,j] = max(Q)\n",
    "            x = V[1,1]\n",
    "            n = n + 1\n",
    "\n",
    "        elif m==1:\n",
    "            for i in range(len(V)):\n",
    "                for j in range(len(V[i])):\n",
    "                    Q = []\n",
    "                    for k in range(len(Act((i,j)))): #Maximising to choose which one yields the most\n",
    "                        q = 0\n",
    "                        for l in range(len(succ((i,j)))): #Summation of all posssible successor (expectation)\n",
    "                            q = q  + Trans((i,j), Act((i,j))[k], succ((i,j))[l])*(Rew[succ((i,j))[l]] + gam*V[succ((i,j))[l]])\n",
    "                            Q.append(q)\n",
    "                    V[i,j] = max(Q)\n",
    "            y = V[1,1]\n",
    "            n = n + 1\n",
    "        elif m==2:\n",
    "            while abs((y-x)/y) > 0.1:\n",
    "                x = y\n",
    "                for i in range(len(V)):\n",
    "                    for j in range(len(V[i])):\n",
    "                        Q = []\n",
    "                        for k in range(len(Act((i,j)))): #Maximising to choose which one yields the most\n",
    "                            q = 0\n",
    "                            for l in range(len(succ((i,j)))): #Summation of all posssible successor (expectation)\n",
    "                                q = q  + Trans((i,j), Act((i,j))[k], succ((i,j))[l])*(Rew[succ((i,j))[l]] + gam*V[succ((i,j))[l]])\n",
    "                                Q.append(q)\n",
    "                        V[i,j] = max(Q)\n",
    "                y = V[1,1]\n",
    "                n = n + 1\n",
    "    return V,n"
   ]
  },
  {
   "cell_type": "code",
   "execution_count": 19,
   "id": "c29f6516-0ed3-4732-91d4-34c42c1be150",
   "metadata": {},
   "outputs": [
    {
     "data": {
      "text/plain": [
       "(array([[17.99688088, 18.48499965, 17.77284971],\n",
       "        [18.85685543, 18.75604081,  0.        ],\n",
       "        [19.88662482, 20.53332887, 19.43199639]]),\n",
       " 5)"
      ]
     },
     "execution_count": 19,
     "metadata": {},
     "output_type": "execute_result"
    }
   ],
   "source": [
    "MDP(Rew, Act, 0.9)"
   ]
  },
  {
   "cell_type": "code",
   "execution_count": null,
   "id": "0c44cdf1-1f45-4de7-98f3-6a09eb610d8a",
   "metadata": {},
   "outputs": [],
   "source": []
  },
  {
   "cell_type": "code",
   "execution_count": null,
   "id": "9bbaee1d-a840-40b7-9ea4-c3603a11492a",
   "metadata": {},
   "outputs": [],
   "source": [
    "#Analysis of code when varying discount factor (gamma)"
   ]
  },
  {
   "cell_type": "code",
   "execution_count": null,
   "id": "c0e9c361-9338-47a2-aa55-22b875c61b7f",
   "metadata": {},
   "outputs": [],
   "source": []
  },
  {
   "cell_type": "code",
   "execution_count": 20,
   "id": "6ad150c9-d44f-4974-9185-bb027a427557",
   "metadata": {},
   "outputs": [],
   "source": [
    "Gam = np.linspace(0, 1, 11)\n",
    "Time = []\n",
    "N = []\n",
    "for gam in Gam:\n",
    "    start = t.time()\n",
    "    N.append(MDP(Rew, Act, gam)[1])\n",
    "    end = t.time()\n",
    "    Time.append(end-start)\n",
    "Time = np.array(Time)\n",
    "N = np.array(N)"
   ]
  },
  {
   "cell_type": "code",
   "execution_count": 21,
   "id": "11c6ad30-7890-4a5d-bdde-53e6ae0a3353",
   "metadata": {},
   "outputs": [
    {
     "data": {
      "image/png": "[encoded data removed]",
      "text/plain": [
       "<Figure size 640x480 with 1 Axes>"
      ]
     },
     "metadata": {},
     "output_type": "display_data"
    },
    {
     "data": {
      "image/png": "[encoded data removed]",
      "text/plain": [
       "<Figure size 640x480 with 1 Axes>"
      ]
     },
     "metadata": {},
     "output_type": "display_data"
    }
   ],
   "source": [
    "\n",
    "plt.title(\"Gamma vs time\")\n",
    "plt.xlabel(\"Gamma --->\")\n",
    "plt.ylabel(\"Time (in ms) --->\")\n",
    "plt.plot(Gam, Time*1000)\n",
    "plt.show()\n",
    "\n",
    "plt.title(\"Gamma vs No. iterations\")\n",
    "plt.xlabel(\"Gamma --->\")\n",
    "plt.ylabel(\"No. of iterations --->\")\n",
    "plt.plot(Gam, N)\n",
    "plt.show()"
   ]
  },
  {
   "cell_type": "code",
   "execution_count": null,
   "id": "97f1c8bc-4ae1-4247-ba39-c20f02459c10",
   "metadata": {},
   "outputs": [],
   "source": []
  }
 ],
 "metadata": {
  "kernelspec": {
   "display_name": "Python 3 (ipykernel)",
   "language": "python",
   "name": "python3"
  },
  "language_info": {
   "codemirror_mode": {
    "name": "ipython",
    "version": 3
   },
   "file_extension": ".py",
   "mimetype": "text/x-python",
   "name": "python",
   "nbconvert_exporter": "python",
   "pygments_lexer": "ipython3",
   "version": "3.8.10"
  }
 },
 "nbformat": 4,
 "nbformat_minor": 5
}
