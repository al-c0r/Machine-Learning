{
 "cells": [
  {
   "cell_type": "code",
   "execution_count": 1,
   "id": "5e9a1211-304c-4ce6-b02f-964fc1f5a5e3",
   "metadata": {},
   "outputs": [],
   "source": [
    "#Dynamic Programming strategy"
   ]
  },
  {
   "cell_type": "code",
   "execution_count": 27,
   "id": "23b98a35-453e-47a5-b79b-907ba0856027",
   "metadata": {},
   "outputs": [],
   "source": [
    "\n",
    "'''Here, the elements in lists are pre-ordered to keep it iterable any changes in ordering is likely to \n",
    "   tamper with the algorithm as this algorithm is NOT class based.'''\n",
    "\n",
    "cost = [1, 2] #Costs\n",
    "act = ['walk', 'tram'] #Actions\n",
    "Begin = 1 #initial point\n",
    "End = 10 #Final point\n",
    "\n",
    "def succ(s): #Successor for a given state\n",
    "    succe = []\n",
    "    if s==End:\n",
    "        return succe.append(s)\n",
    "    else:\n",
    "        succe.append(s + 1)\n",
    "        if 2*s<=End:\n",
    "            succe.append(2*s)\n",
    "        return succe"
   ]
  },
  {
   "cell_type": "code",
   "execution_count": 30,
   "id": "2d2b263a-dd24-4970-b056-d034f7d6ae23",
   "metadata": {},
   "outputs": [],
   "source": [
    "def Dyna(s):\n",
    "    cash = {}\n",
    "    acti = {}\n",
    "    hist=[]\n",
    "    def FutCost(s): #s is state\n",
    "        min_cost = float('+inf')\n",
    "        if s==End:\n",
    "            return 0\n",
    "        elif s in cash:\n",
    "            return cash[s]\n",
    "        else:\n",
    "            ls = []\n",
    "            for i in range(len(succ(s))):\n",
    "                coste = cost[i] + FutCost(succ(s)[i])\n",
    "                if coste<min_cost:\n",
    "                    min_cost = coste\n",
    "                cash[s] = min_cost\n",
    "                acti[s] = act[i]\n",
    "                    #hist.append((s, succ(s)[i]))\n",
    "        return min_cost\n",
    "    return FutCost(s), acti, cash#, hist"
   ]
  },
  {
   "cell_type": "code",
   "execution_count": 31,
   "id": "1e4b25fb-b61d-41af-90bd-58dc058243cf",
   "metadata": {},
   "outputs": [
    {
     "data": {
      "text/plain": [
       "(6,\n",
       " {9: 'walk',\n",
       "  8: 'walk',\n",
       "  7: 'walk',\n",
       "  6: 'walk',\n",
       "  5: 'tram',\n",
       "  4: 'tram',\n",
       "  3: 'tram',\n",
       "  2: 'tram',\n",
       "  1: 'tram'},\n",
       " {9: 1, 8: 2, 7: 3, 6: 4, 5: 2, 4: 3, 3: 4, 2: 5, 1: 6})"
      ]
     },
     "execution_count": 31,
     "metadata": {},
     "output_type": "execute_result"
    }
   ],
   "source": [
    "Dyna(Begin)"
   ]
  },
  {
   "cell_type": "code",
   "execution_count": null,
   "id": "dbfa1d22-1bf3-4cc3-a2e3-d21bf71521c7",
   "metadata": {},
   "outputs": [],
   "source": []
  },
  {
   "cell_type": "code",
   "execution_count": 5,
   "id": "63996e4d-a6ce-4fc3-894a-94f611424d7b",
   "metadata": {},
   "outputs": [],
   "source": [
    "#Uniform Cost Search\n",
    "'''\n",
    "      1  C  100\n",
    "   A     1      D\n",
    "    100  B  1\n",
    "'''\n",
    "unexp = ['A', 'B', 'C', 'D']\n",
    "fron = []\n",
    "exp = []\n",
    "\n",
    "def succos(s): #Successor & Cost of possible action at a given point\n",
    "    if s=='A': #Initial point\n",
    "        return [['B', 'C'], [100, 1]]\n",
    "    elif s=='B':\n",
    "        return [['A', 'C', 'D'], [100, 1, 1]]\n",
    "    elif s=='C':\n",
    "        return [['A', 'B', 'D'], [1, 1, 100]]\n",
    "    elif s=='D':\n",
    "        return ['D', 0] #End point"
   ]
  },
  {
   "cell_type": "code",
   "execution_count": 1,
   "id": "f45078fe-2645-4d44-9ec1-9a6d43023bd3",
   "metadata": {},
   "outputs": [],
   "source": [
    "'''\n",
    "      1    B    5\n",
    "A                     D\n",
    "    1002   C   -999\n",
    "'''\n",
    "unexp = ['A', 'B', 'C', 'D']\n",
    "\n",
    "def succos(s):\n",
    "    if s=='A':\n",
    "        return [['B', 'C'], [1, 1002]]\n",
    "    elif s=='B':\n",
    "        return [['A', 'D'], [1, 5]]\n",
    "    elif s=='C':\n",
    "        return [['A', 'D'], [1002, -999]]\n",
    "    elif s=='D':\n",
    "        return ['D', 0]"
   ]
  },
  {
   "cell_type": "code",
   "execution_count": 2,
   "id": "4f89fddf-cf3e-4bc4-9944-1db415bf03c3",
   "metadata": {},
   "outputs": [
    {
     "data": {
      "text/plain": [
       "(['B', 'C'], 'C', 1, [100, 1, 1], [['A', 'B', 'D'], [1, 1, 100]])"
      ]
     },
     "execution_count": 2,
     "metadata": {},
     "output_type": "execute_result"
    }
   ],
   "source": [
    "succos('A')[0], succos('A')[0][1], succos('A')[1][1], succos('B')[1], succos('C')"
   ]
  },
  {
   "cell_type": "code",
   "execution_count": 3,
   "id": "241e9394-ee4a-401f-aebd-a4859a707cf6",
   "metadata": {},
   "outputs": [
    {
     "data": {
      "text/plain": [
       "'C'"
      ]
     },
     "execution_count": 3,
     "metadata": {},
     "output_type": "execute_result"
    }
   ],
   "source": [
    "succos(unexp[1])[0][1]"
   ]
  },
  {
   "cell_type": "code",
   "execution_count": 3,
   "id": "4c14d145-45bc-4832-a629-a00105a90a1e",
   "metadata": {
    "scrolled": true
   },
   "outputs": [
    {
     "name": "stdout",
     "output_type": "stream",
     "text": [
      "({'A': 0, 'B': 1, 'C': 1002, 'D': 3}, {'A': 'C', 'B': 'D', 'C': 'D', 'D': 0}, 'A->C->D')\n"
     ]
    }
   ],
   "source": [
    "def UCS(unexp): #Uniform cost algorithm defined in terms of unexplored points\n",
    "    fron = [unexp[0]] #Frontier points\n",
    "    exp = [] #Explored points\n",
    "    path = []\n",
    "\n",
    "    Action = {'A':0}\n",
    "    PtCost = {'A':0}#, 'E':float('+inf'), 'F':float('+inf')} #PastCost of that points,\n",
    "                                                                #pastcost of initial is always zero\n",
    "    for i in range(1, len(unexp)):\n",
    "        PtCost[unexp[i]] = float('+inf')\n",
    "        Action[unexp[i]] = 0\n",
    "\n",
    "    count = 0\n",
    "    while len(fron)>0:\n",
    "        X = succos(fron[0])[0]\n",
    "        Y = succos(fron[0])[1]\n",
    "        for j in range(len(succos(fron[0])[0])):\n",
    "            if fron[0]=='D':\n",
    "                break #Solution\n",
    "            elif succos(fron[0])[0][j] in exp:\n",
    "                continue\n",
    "            else: #Choosing the state with minimum PtCost\n",
    "                y = min(Y)\n",
    "                x = X[Y.index(y)]\n",
    "                fron.append(X[Y.index(y)])\n",
    "                X.remove(x)\n",
    "                Y.remove(y)\n",
    "                if succos(fron[0])[1][j]<PtCost[succos(fron[0])[0][j]]:\n",
    "                    PtCost[succos(fron[0])[0][j]] = succos(fron[0])[1][j] + PtCost[fron[0]]\n",
    "                    Action[fron[0]] = succos(fron[0])[0][j]\n",
    "                else: pass\n",
    "        exp.append(fron[0])\n",
    "        fron.remove(fron[0])\n",
    "    key = list(PtCost.keys())\n",
    "    val = list(PtCost.values())\n",
    "    #route = \"\"\n",
    "    for i in range(len(key)):\n",
    "        for j in range(i+1, len(key)):\n",
    "            if val[i]>val[j]:\n",
    "                h = key[i]\n",
    "                key[i] = key[j]\n",
    "                key[j] = h\n",
    "    route = \"A\"\n",
    "    s='A'\n",
    "    while s!='D':\n",
    "        route = route + \"->\" + Action[s]\n",
    "        s = Action[s]\n",
    "        #print(PtCost), print(fron), print(exp)'''\n",
    "    return PtCost, Action, route\n",
    "\n",
    "print(UCS(unexp))"
   ]
  },
  {
   "cell_type": "code",
   "execution_count": 8,
   "id": "3ef714c5-e558-4f38-a0e6-f316b5eae9df",
   "metadata": {},
   "outputs": [
    {
     "name": "stdout",
     "output_type": "stream",
     "text": [
      "{'A': 'C', 'B': 'D', 'C': 'D', 'D': 0}\n",
      "C\n",
      "D\n"
     ]
    }
   ],
   "source": [
    "act = UCS(unexp)[1]\n",
    "print(act)\n",
    "s = 'A'\n",
    "while s!='D':\n",
    "    print(act[s])\n",
    "    s = act[s]"
   ]
  },
  {
   "cell_type": "code",
   "execution_count": 18,
   "id": "a85db2d2-5a73-46de-8313-55dae5eddca3",
   "metadata": {},
   "outputs": [
    {
     "data": {
      "text/plain": [
       "'C'"
      ]
     },
     "execution_count": 18,
     "metadata": {},
     "output_type": "execute_result"
    }
   ],
   "source": [
    "act['A']"
   ]
  },
  {
   "cell_type": "code",
   "execution_count": null,
   "id": "5665a064-d9db-4353-b63c-7df12286f1b6",
   "metadata": {},
   "outputs": [],
   "source": []
  }
 ],
 "metadata": {
  "kernelspec": {
   "display_name": "Python 3 (ipykernel)",
   "language": "python",
   "name": "python3"
  },
  "language_info": {
   "codemirror_mode": {
    "name": "ipython",
    "version": 3
   },
   "file_extension": ".py",
   "mimetype": "text/x-python",
   "name": "python",
   "nbconvert_exporter": "python",
   "pygments_lexer": "ipython3",
   "version": "3.8.10"
  }
 },
 "nbformat": 4,
 "nbformat_minor": 5
}
