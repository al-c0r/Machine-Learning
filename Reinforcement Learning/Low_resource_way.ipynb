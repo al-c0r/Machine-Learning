{
 "cells": [
  {
   "cell_type": "code",
   "execution_count": 1,
   "id": "2e43763f-2cd4-45a2-a60e-7395f85e2d89",
   "metadata": {},
   "outputs": [
    {
     "name": "stdout",
     "output_type": "stream",
     "text": [
      "Start 1\n",
      "Walk => 2\n",
      "Tram => 4\n",
      "Walk => 5\n",
      "Tram => 10\n",
      "\n",
      "Total cost for travelling is 6\n"
     ]
    }
   ],
   "source": [
    "#Testing with your number specs which was taught in class.\n",
    "N=10\n",
    "cost = 0\n",
    "position = [N]\n",
    "choice = []\n",
    "tram_cost = 2\n",
    "while N!=1:\n",
    "    if N<tram_cost+1:\n",
    "        position.append(N-1)\n",
    "        cost = cost + 1\n",
    "        N = N-1\n",
    "        choice.append(\"Walk\")\n",
    "    elif N%2==0:\n",
    "        position.append(N/2)\n",
    "        cost = cost + 2\n",
    "        N = N/2\n",
    "        choice.append(\"Tram\")\n",
    "    else:\n",
    "        position.append(N-1)\n",
    "        cost = cost + 1\n",
    "        N = N-1\n",
    "        choice.append(\"Walk\")\n",
    "\n",
    "print(\"Start\", int(position[-1]))\n",
    "for i in range(1, len(position)):\n",
    "    print(choice[-i], \"=>\", int(position[-i-1]))\n",
    "print(\"\\nTotal cost for travelling is\", cost)"
   ]
  },
  {
   "cell_type": "code",
   "execution_count": 2,
   "id": "dd58cfa7-ac0e-4f59-b6de-0d147bb092a8",
   "metadata": {},
   "outputs": [
    {
     "name": "stdout",
     "output_type": "stream",
     "text": [
      "Start 1\n",
      "Walk => 2\n",
      "Walk => 3\n",
      "Tram => 6\n",
      "Walk => 7\n",
      "Tram => 14\n",
      "Tram => 28\n",
      "Walk => 29\n",
      "Tram => 58\n",
      "Walk => 59\n",
      "Tram => 118\n",
      "Walk => 119\n",
      "Tram => 238\n",
      "Tram => 476\n",
      "Tram => 952\n",
      "Walk => 953\n",
      "Tram => 1906\n",
      "Walk => 1907\n",
      "Tram => 3814\n",
      "Tram => 7628\n",
      "Walk => 7629\n",
      "Tram => 15258\n",
      "Tram => 30516\n",
      "Walk => 30517\n",
      "Tram => 61034\n",
      "Walk => 61035\n",
      "Tram => 122070\n",
      "Tram => 244140\n",
      "Tram => 488280\n",
      "Walk => 488281\n",
      "Tram => 976562\n",
      "Tram => 1953124\n",
      "Walk => 1953125\n",
      "Tram => 3906250\n",
      "Tram => 7812500\n",
      "Tram => 15625000\n",
      "Tram => 31250000\n",
      "Tram => 62500000\n",
      "Tram => 125000000\n",
      "Tram => 250000000\n",
      "Tram => 500000000\n",
      "Tram => 1000000000\n",
      "\n",
      "Total cost for travelling is 69\n"
     ]
    }
   ],
   "source": [
    "#Test of my code using a very large number\n",
    "N = 1000000000\n",
    "cost = 0\n",
    "position = [N]\n",
    "choice = []\n",
    "tram_cost = 2\n",
    "while N!=1:\n",
    "    if N<tram_cost+1:\n",
    "        position.append(N-1)\n",
    "        cost = cost + 1\n",
    "        N = N-1\n",
    "        choice.append(\"Walk\")\n",
    "    elif N%2==0:\n",
    "        position.append(N/2)\n",
    "        cost = cost + 2\n",
    "        N = N/2\n",
    "        choice.append(\"Tram\")\n",
    "    else:\n",
    "        position.append(N-1)\n",
    "        cost = cost + 1\n",
    "        N = N-1\n",
    "        choice.append(\"Walk\")\n",
    "\n",
    "print(\"Start\", int(position[-1]))\n",
    "for i in range(1, len(position)):\n",
    "    print(choice[-i], \"=>\", int(position[-i-1]))\n",
    "print(\"\\nTotal cost for travelling is\", cost)"
   ]
  },
  {
   "cell_type": "code",
   "execution_count": null,
   "id": "79257a9e-ed0f-4929-80a4-5be333e8e8dc",
   "metadata": {},
   "outputs": [],
   "source": []
  }
 ],
 "metadata": {
  "kernelspec": {
   "display_name": "Python 3 (ipykernel)",
   "language": "python",
   "name": "python3"
  },
  "language_info": {
   "codemirror_mode": {
    "name": "ipython",
    "version": 3
   },
   "file_extension": ".py",
   "mimetype": "text/x-python",
   "name": "python",
   "nbconvert_exporter": "python",
   "pygments_lexer": "ipython3",
   "version": "3.8.10"
  }
 },
 "nbformat": 4,
 "nbformat_minor": 5
}
